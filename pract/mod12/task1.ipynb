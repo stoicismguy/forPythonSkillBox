{
  "cells": [
    {
      "cell_type": "markdown",
      "metadata": {},
      "source": [
        "Задание 1"
      ]
    },
    {
      "cell_type": "code",
      "execution_count": 39,
      "metadata": {},
      "outputs": [],
      "source": [
        "import sqlite3\n",
        "conn = sqlite3.connect('D:/netflix.sqlite')\n",
        "cursor = conn.cursor()"
      ]
    },
    {
      "cell_type": "code",
      "execution_count": 52,
      "metadata": {},
      "outputs": [],
      "source": [
        "table1 = cursor.execute(\"SELECT show_id, actors FROM netflix_titles\").fetchall()"
      ]
    },
    {
      "cell_type": "code",
      "execution_count": 53,
      "metadata": {},
      "outputs": [],
      "source": [
        "task = sqlite3.connect(\"D:/task1.sqlite\")\n",
        "cursor_task = task.cursor()"
      ]
    },
    {
      "cell_type": "markdown",
      "metadata": {},
      "source": [
        "Таблица актеры"
      ]
    },
    {
      "cell_type": "code",
      "execution_count": 65,
      "metadata": {},
      "outputs": [],
      "source": [
        "with task:\n",
        "    cursor_task.execute(\"\"\"\n",
        "        CREATE TABLE actors (\n",
        "            movie_id INT,\n",
        "            name TEXT\n",
        "        );\n",
        "    \"\"\")"
      ]
    },
    {
      "cell_type": "code",
      "execution_count": null,
      "metadata": {},
      "outputs": [],
      "source": [
        "for row in table1:\n",
        "    movie_id = row[0]\n",
        "    act = row[1].split(\", \")\n",
        "    data = []\n",
        "    print(movie_id, act)\n",
        "    for name in act:\n",
        "        data.append((int(movie_id), name))\n",
        "    with task:   \n",
        "            cursor_task.executemany(\"INSERT INTO actors VALUES(?, ?)\", data)"
      ]
    },
    {
      "cell_type": "markdown",
      "metadata": {},
      "source": [
        "Таблица фильмы"
      ]
    },
    {
      "cell_type": "code",
      "execution_count": 70,
      "metadata": {},
      "outputs": [],
      "source": [
        "with task:\n",
        "    cursor_task.execute(\"\"\"\n",
        "        CREATE TABLE movies (\n",
        "            movie_id INT,\n",
        "            title TEXT\n",
        "        );\n",
        "    \"\"\")"
      ]
    },
    {
      "cell_type": "code",
      "execution_count": 71,
      "metadata": {},
      "outputs": [],
      "source": [
        "table2 = cursor.execute(\"SELECT show_id, title FROM netflix_titles\").fetchall()"
      ]
    },
    {
      "cell_type": "code",
      "execution_count": 72,
      "metadata": {},
      "outputs": [],
      "source": [
        "with task:\n",
        "    for row in table2:\n",
        "        cursor_task.execute(\"INSERT INTO movies VALUES(?, ?)\", (int(row[0]), row[1]))"
      ]
    },
    {
      "cell_type": "markdown",
      "metadata": {},
      "source": [
        "Таблица актер-фильм"
      ]
    },
    {
      "cell_type": "code",
      "execution_count": null,
      "metadata": {},
      "outputs": [],
      "source": [
        "with task:\n",
        "    # cursor_task.execute(\"Union SELECT movie_id, name FROM actors A Exception JOIN movies M on A.movie_id = M.movie_id\")\n",
        "    sq = cursor_task.execute(\"SELECT DISTINCT A.movie_id, A.name, m.title FROM actors AS a INNER JOIN movies AS m on a.movie_id = m.movie_id\").fetchall()\n",
        "    for row in sq:\n",
        "        # cursor_task.execute(\"INSERT INTO actors_movies VALUES(?, ?, ?)\", row)\n",
        "        data = (row[0], row[1], row[2])\n",
        "        cursor_task.execute(\"INSERT INTO actors_movies VALUES(?, ?, ?)\", data)\n",
        "        "
      ]
    },
    {
      "cell_type": "code",
      "execution_count": 97,
      "metadata": {},
      "outputs": [
        {
          "name": "stdout",
          "output_type": "stream",
          "text": [
            "[('John Paul Tremblay', 'Robb Wells', 15)]\n"
          ]
        }
      ],
      "source": [
        "with task:\n",
        "    pair = cursor_task.execute(\"SELECT a1.actor_name AS actor1, a2.actor_name AS actor2, COUNT(*) AS count FROM \\\n",
        "                        actors_movies a1 JOIN actors_movies a2 ON a1.title = a2.title AND a1.actor_name < a2.actor_name\\\n",
        "                         GROUP BY actor1, actor2 ORDER BY count DESC LIMIT 1;\").fetchall()\n",
        "    print(pair)"
      ]
    }
  ],
  "metadata": {
    "colab": {
      "collapsed_sections": [],
      "name": "2_Sqlite-and-pandas.ipynb",
      "provenance": []
    },
    "kernelspec": {
      "display_name": "Python 3",
      "language": "python",
      "name": "python3"
    },
    "language_info": {
      "codemirror_mode": {
        "name": "ipython",
        "version": 3
      },
      "file_extension": ".py",
      "mimetype": "text/x-python",
      "name": "python",
      "nbconvert_exporter": "python",
      "pygments_lexer": "ipython3",
      "version": "3.11.4"
    }
  },
  "nbformat": 4,
  "nbformat_minor": 0
}
